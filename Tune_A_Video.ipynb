{
  "cells": [
    {
      "cell_type": "markdown",
      "metadata": {
        "id": "view-in-github",
        "colab_type": "text"
      },
      "source": [
        "<a href=\"https://colab.research.google.com/github/cedro3/Tune-A-Video/blob/main/Tune_A_Video.ipynb\" target=\"_parent\"><img src=\"https://colab.research.google.com/assets/colab-badge.svg\" alt=\"Open In Colab\"/></a>"
      ]
    },
    {
      "cell_type": "code",
      "execution_count": null,
      "metadata": {
        "id": "RRJpHRo-xDEo"
      },
      "outputs": [],
      "source": [
        "#@title **Setup**\n",
        "# check GPU\n",
        "! nvidia-smi -L\n",
        "\n",
        "# change torch version\n",
        "! pip install torch==1.13.0 torchvision==0.14.0\n",
        "\n",
        "# install xformers\n",
        "! pip install -q https://github.com/brian6091/xformers-wheels/releases/download/0.0.15.dev0%2B4c06c79/xformers-0.0.15.dev0+4c06c79.d20221205-cp38-cp38-linux_x86_64.whl\n",
        "\n",
        "# copy github code & install library\n",
        "! git clone https://github.com/cedro3/Tune-A-Video.git\n",
        "%cd Tune-A-Video\n",
        "! pip install -r requirements.txt\n",
        "\n",
        "# download model\n",
        "! mkdir checkpoints \n",
        "%cd checkpoints\n",
        "!git lfs install\n",
        "!git clone https://huggingface.co/CompVis/stable-diffusion-v1-4\n",
        "%cd .."
      ]
    },
    {
      "cell_type": "code",
      "execution_count": null,
      "metadata": {
        "id": "SCTKKUDlyv1w"
      },
      "outputs": [],
      "source": [
        "#@title **Train**\n",
        "! accelerate launch train_tuneavideo.py --config=\"configs/man-surfing.yaml\""
      ]
    },
    {
      "cell_type": "code",
      "execution_count": null,
      "metadata": {
        "id": "AwJL6Ik8UA-D"
      },
      "outputs": [],
      "source": [
        "#@title **Make GIF**\n",
        "from tuneavideo.pipelines.pipeline_tuneavideo import TuneAVideoPipeline\n",
        "from tuneavideo.models.unet import UNet3DConditionModel\n",
        "from tuneavideo.util import save_videos_grid\n",
        "import torch\n",
        "\n",
        "id_name = \"2023-01-31T12-15-52\" #@param {type:\"string\"}\n",
        "model_id = \"./outputs/man-surfing_lr3e-5_seed33/\" + id_name\n",
        "unet = UNet3DConditionModel.from_pretrained(model_id, subfolder='unet', torch_dtype=torch.float16).to('cuda')\n",
        "pipe = TuneAVideoPipeline.from_pretrained(\"CompVis/stable-diffusion-v1-4\", unet=unet, torch_dtype=torch.float16).to(\"cuda\")\n",
        "\n",
        "prompt = \"a boy, wearing a birthday hat, is surfing\" #@param [\"a panda is surfing\", \"a boy, wearing a birthday hat, is surfing\", \"a raccoon is surfing, cartoon style\", \"Iron Man is surfing in the desert\"]\n",
        "video = pipe(prompt, video_length=8, height=512, width=512, num_inference_steps=50, guidance_scale=7.5).videos\n",
        "\n",
        "# save video\n",
        "save_videos_grid(video, \"outputs/video.gif\")\n"
      ]
    },
    {
      "cell_type": "code",
      "execution_count": null,
      "metadata": {
        "id": "1CmCqmJUc-NM"
      },
      "outputs": [],
      "source": [
        "#@title **Play GIF**\n",
        "from IPython.display import Image\n",
        "Image(\"outputs/video.gif\", format='png')"
      ]
    },
    {
      "cell_type": "code",
      "execution_count": null,
      "metadata": {
        "id": "k4ynowrAtudv"
      },
      "outputs": [],
      "source": [
        "#@title **Download GIF** ( for chrome only)\n",
        "from google.colab import files\n",
        "files.download(\"outputs/video.gif\")"
      ]
    }
  ],
  "metadata": {
    "accelerator": "GPU",
    "colab": {
      "provenance": [],
      "authorship_tag": "ABX9TyPdzFWKwDuQQWyygIxACvYV",
      "include_colab_link": true
    },
    "gpuClass": "premium",
    "kernelspec": {
      "display_name": "Python 3",
      "name": "python3"
    },
    "language_info": {
      "name": "python"
    }
  },
  "nbformat": 4,
  "nbformat_minor": 0
}